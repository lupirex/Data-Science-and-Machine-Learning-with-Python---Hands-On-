{
 "cells": [
  {
   "cell_type": "markdown",
   "metadata": {},
   "source": [
    "# Mean, Median, Mode, and introducing NumPy"
   ]
  },
  {
   "cell_type": "markdown",
   "metadata": {},
   "source": [
    "## Mean vs. Median"
   ]
  },
  {
   "cell_type": "markdown",
   "metadata": {},
   "source": [
    "Let's create some fake income data, centered around 27,000 with a normal distribution and standard deviation of 15,000, with 10,000 data points. (We'll discuss those terms more later, if you're not familiar with them.)\n",
    "\n",
    "Then, compute the mean (average) - it should be close to 27,000:"
   ]
  },
  {
   "cell_type": "code",
   "execution_count": 1,
   "metadata": {},
   "outputs": [
    {
     "data": {
      "text/plain": [
       "27046.779018251287"
      ]
     },
     "execution_count": 1,
     "metadata": {},
     "output_type": "execute_result"
    }
   ],
   "source": [
    "import numpy as np\n",
    "\n",
    "incomes = np.random.normal(27000, 15000, 10000)\n",
    "np.mean(incomes)"
   ]
  },
  {
   "cell_type": "markdown",
   "metadata": {},
   "source": [
    "We can segment the income data into 50 buckets, and plot it as a histogram:"
   ]
  },
  {
   "cell_type": "code",
   "execution_count": 2,
   "metadata": {},
   "outputs": [
    {
     "data": {
      "image/png": "[encoded data removed]",
      "text/plain": [
       "<Figure size 640x480 with 1 Axes>"
      ]
     },
     "metadata": {},
     "output_type": "display_data"
    }
   ],
   "source": [
    "# %matplotlib inline\n",
    "import matplotlib.pyplot as plt\n",
    "plt.hist(incomes, 50)\n",
    "plt.show()"
   ]
  },
  {
   "cell_type": "markdown",
   "metadata": {},
   "source": [
    "Now compute the median - since we have a nice, even distribution it too should be close to 27,000:"
   ]
  },
  {
   "cell_type": "code",
   "execution_count": 2,
   "metadata": {},
   "outputs": [
    {
     "data": {
      "text/plain": [
       "27129.428203922336"
      ]
     },
     "execution_count": 2,
     "metadata": {},
     "output_type": "execute_result"
    }
   ],
   "source": [
    "np.median(incomes)"
   ]
  },
  {
   "cell_type": "markdown",
   "metadata": {},
   "source": [
    "Now we'll add Jeff Bezos into the mix. Darn income inequality!"
   ]
  },
  {
   "cell_type": "code",
   "execution_count": 3,
   "metadata": {},
   "outputs": [],
   "source": [
    "incomes = np.append(incomes, [1000000000])"
   ]
  },
  {
   "cell_type": "markdown",
   "metadata": {},
   "source": [
    "The median won't change much, but the mean does:"
   ]
  },
  {
   "cell_type": "code",
   "execution_count": 4,
   "metadata": {},
   "outputs": [
    {
     "data": {
      "text/plain": [
       "27177.748906037195"
      ]
     },
     "execution_count": 4,
     "metadata": {},
     "output_type": "execute_result"
    }
   ],
   "source": [
    "np.median(incomes)"
   ]
  },
  {
   "cell_type": "code",
   "execution_count": 5,
   "metadata": {},
   "outputs": [
    {
     "data": {
      "text/plain": [
       "127034.07561069021"
      ]
     },
     "execution_count": 5,
     "metadata": {},
     "output_type": "execute_result"
    }
   ],
   "source": [
    "np.mean(incomes)"
   ]
  },
  {
   "cell_type": "markdown",
   "metadata": {},
   "source": [
    "## Mode"
   ]
  },
  {
   "cell_type": "markdown",
   "metadata": {},
   "source": [
    "Next, let's generate some fake age data for 500 people:"
   ]
  },
  {
   "cell_type": "code",
   "execution_count": 6,
   "metadata": {},
   "outputs": [
    {
     "data": {
      "text/plain": [
       "array([35, 68, 54, 19, 28, 36, 33, 35, 64, 28, 75, 52, 40, 56, 77, 41, 35,\n",
       "       48, 58, 32, 69, 36, 18, 56, 74, 36, 81, 75, 30, 30, 51, 50, 55, 40,\n",
       "       64, 70, 80, 21, 62, 83, 31, 27, 73, 56, 83, 53, 46, 23, 80, 61, 47,\n",
       "       84, 21, 54, 45, 70, 33, 45, 73, 52, 79, 84, 69, 56, 53, 47, 86, 78,\n",
       "       26, 48, 33, 72, 80, 68, 35, 58, 30, 70, 74, 84, 27, 41, 40, 59, 89,\n",
       "       44, 22, 36, 39, 24, 38, 64, 46, 65, 73, 79, 51, 51, 66, 57, 67, 34,\n",
       "       30, 19, 20, 75, 53, 84, 89, 38, 76, 78, 65, 48, 64, 81, 33, 74, 64,\n",
       "       68, 44, 65, 35, 89, 22, 88, 59, 76, 28, 26, 76, 43, 80, 86, 27, 47,\n",
       "       72, 65, 79, 67, 20, 64, 45, 35, 41, 63, 68, 71, 79, 66, 38, 48, 31,\n",
       "       54, 47, 78, 51, 82, 82, 58, 73, 76, 72, 39, 44, 71, 45, 32, 34, 74,\n",
       "       46, 85, 77, 46, 53, 20, 43, 35, 25, 59, 81, 83, 31, 27, 23, 73, 79,\n",
       "       81, 47, 28, 52, 80, 89, 49, 19, 60, 56, 36, 20, 40, 41, 35, 49, 89,\n",
       "       22, 57, 86, 39, 78, 23, 34, 35, 88, 52, 33, 56, 21, 27, 35, 18, 77,\n",
       "       28, 58, 78, 54, 55, 80, 71, 83, 51, 42, 46, 32, 66, 87, 34, 23, 44,\n",
       "       33, 40, 79, 59, 53, 50, 35, 42, 34, 28, 85, 58, 48, 83, 32, 55, 36,\n",
       "       54, 20, 36, 33, 69, 43, 68, 84, 64, 80, 65, 83, 64, 79, 25, 34, 55,\n",
       "       26, 28, 62, 59, 51, 54, 30, 30, 44, 64, 58, 33, 76, 32, 29, 43, 35,\n",
       "       20, 83, 29, 88, 35, 80, 70, 33, 48, 66, 18, 71, 30, 70, 35, 58, 42,\n",
       "       45, 55, 56, 19, 85, 21, 28, 39, 24, 20, 82, 70, 88, 50, 40, 76, 61,\n",
       "       27, 54, 56, 38, 88, 67, 76, 42, 72, 60, 66, 22, 49, 76, 68, 42, 24,\n",
       "       81, 31, 41, 36, 86, 33, 78, 41, 70, 57, 77, 23, 58, 41, 60, 46, 29,\n",
       "       40, 76, 58, 67, 49, 38, 55, 51, 33, 50, 25, 66, 85, 65, 67, 23, 84,\n",
       "       19, 69, 51, 42, 42, 63, 67, 89, 48, 41, 51, 80, 88, 18, 63, 89, 64,\n",
       "       77, 65, 65, 31, 36, 79, 66, 56, 52, 28, 52, 30, 72, 83, 20, 57, 40,\n",
       "       48, 51, 52, 65, 77, 52, 86, 36, 80, 34, 54, 19, 61, 65, 75, 71, 58,\n",
       "       64, 85, 62, 76, 30, 67, 72, 19, 59, 32, 69, 34, 88, 65, 60, 57, 86,\n",
       "       64, 68, 63, 62, 42, 76, 31, 21, 66, 62, 73, 36, 60, 59, 48, 60, 33,\n",
       "       40, 59, 81, 18, 66, 39, 54, 64, 83, 64, 51, 73, 55, 47, 19, 70, 82,\n",
       "       70, 41, 50, 65, 59, 48, 61, 43, 36, 59, 86, 20, 34, 51, 51, 77, 82,\n",
       "       26, 77, 37, 24, 32, 83, 18])"
      ]
     },
     "execution_count": 6,
     "metadata": {},
     "output_type": "execute_result"
    }
   ],
   "source": [
    "ages = np.random.randint(18, high=90, size=500)\n",
    "ages"
   ]
  },
  {
   "cell_type": "code",
   "execution_count": 7,
   "metadata": {},
   "outputs": [
    {
     "data": {
      "text/plain": [
       "ModeResult(mode=35, count=14)"
      ]
     },
     "execution_count": 7,
     "metadata": {},
     "output_type": "execute_result"
    }
   ],
   "source": [
    "from scipy import stats\n",
    "stats.mode(ages)"
   ]
  },
  {
   "cell_type": "code",
   "execution_count": null,
   "metadata": {},
   "outputs": [],
   "source": []
  }
 ],
 "metadata": {
  "kernelspec": {
   "display_name": "base",
   "language": "python",
   "name": "python3"
  },
  "language_info": {
   "codemirror_mode": {
    "name": "ipython",
    "version": 3
   },
   "file_extension": ".py",
   "mimetype": "text/x-python",
   "name": "python",
   "nbconvert_exporter": "python",
   "pygments_lexer": "ipython3",
   "version": "3.12.7"
  }
 },
 "nbformat": 4,
 "nbformat_minor": 1
}
